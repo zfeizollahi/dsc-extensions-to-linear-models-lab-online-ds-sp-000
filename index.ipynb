{
 "cells": [
  {
   "cell_type": "markdown",
   "metadata": {},
   "source": [
    "# Extensions to Linear Models - Lab"
   ]
  },
  {
   "cell_type": "markdown",
   "metadata": {},
   "source": [
    "## Introduction\n",
    "\n",
    "In this lab, you'll practice many concepts you have learned so far, from adding interactions and polynomials to your model to AIC and BIC!"
   ]
  },
  {
   "cell_type": "markdown",
   "metadata": {},
   "source": [
    "## Summary\n",
    "\n",
    "You will be able to:\n",
    "- Build a linear regression model with interactions and polynomial features \n",
    "- Use AIC and BIC to select the best value for the regularization parameter \n"
   ]
  },
  {
   "cell_type": "markdown",
   "metadata": {},
   "source": [
    "## Let's get started!"
   ]
  },
  {
   "cell_type": "markdown",
   "metadata": {},
   "source": [
    "Import all the necessary packages."
   ]
  },
  {
   "cell_type": "code",
   "execution_count": 49,
   "metadata": {},
   "outputs": [],
   "source": [
    "import pandas as pd\n",
    "import numpy as np\n",
    "import matplotlib.pyplot as plt\n",
    "import warnings\n",
    "warnings.filterwarnings('ignore')\n",
    "from itertools import combinations\n",
    "\n",
    "from sklearn.linear_model import LinearRegression\n",
    "from sklearn.model_selection import cross_val_score\n",
    "from sklearn.model_selection import KFold\n",
    "from sklearn.preprocessing import scale\n",
    "from sklearn.preprocessing import PolynomialFeatures\n",
    "from sklearn import metrics"
   ]
  },
  {
   "cell_type": "markdown",
   "metadata": {},
   "source": [
    "Load the data."
   ]
  },
  {
   "cell_type": "code",
   "execution_count": 50,
   "metadata": {},
   "outputs": [],
   "source": [
    "df = pd.read_csv(\"ames.csv\")"
   ]
  },
  {
   "cell_type": "code",
   "execution_count": 51,
   "metadata": {},
   "outputs": [],
   "source": [
    "df = df[['LotArea', 'OverallQual', 'OverallCond', 'TotalBsmtSF',\n",
    "         '1stFlrSF', '2ndFlrSF', 'GrLivArea', 'TotRmsAbvGrd',\n",
    "         'GarageArea', 'Fireplaces', 'SalePrice']]"
   ]
  },
  {
   "cell_type": "code",
   "execution_count": 52,
   "metadata": {},
   "outputs": [
    {
     "data": {
      "text/html": [
       "<div>\n",
       "<style scoped>\n",
       "    .dataframe tbody tr th:only-of-type {\n",
       "        vertical-align: middle;\n",
       "    }\n",
       "\n",
       "    .dataframe tbody tr th {\n",
       "        vertical-align: top;\n",
       "    }\n",
       "\n",
       "    .dataframe thead th {\n",
       "        text-align: right;\n",
       "    }\n",
       "</style>\n",
       "<table border=\"1\" class=\"dataframe\">\n",
       "  <thead>\n",
       "    <tr style=\"text-align: right;\">\n",
       "      <th></th>\n",
       "      <th>LotArea</th>\n",
       "      <th>OverallQual</th>\n",
       "      <th>OverallCond</th>\n",
       "      <th>TotalBsmtSF</th>\n",
       "      <th>1stFlrSF</th>\n",
       "      <th>2ndFlrSF</th>\n",
       "      <th>GrLivArea</th>\n",
       "      <th>TotRmsAbvGrd</th>\n",
       "      <th>GarageArea</th>\n",
       "      <th>Fireplaces</th>\n",
       "      <th>SalePrice</th>\n",
       "    </tr>\n",
       "  </thead>\n",
       "  <tbody>\n",
       "    <tr>\n",
       "      <th>0</th>\n",
       "      <td>8450</td>\n",
       "      <td>7</td>\n",
       "      <td>5</td>\n",
       "      <td>856</td>\n",
       "      <td>856</td>\n",
       "      <td>854</td>\n",
       "      <td>1710</td>\n",
       "      <td>8</td>\n",
       "      <td>548</td>\n",
       "      <td>0</td>\n",
       "      <td>208500</td>\n",
       "    </tr>\n",
       "    <tr>\n",
       "      <th>1</th>\n",
       "      <td>9600</td>\n",
       "      <td>6</td>\n",
       "      <td>8</td>\n",
       "      <td>1262</td>\n",
       "      <td>1262</td>\n",
       "      <td>0</td>\n",
       "      <td>1262</td>\n",
       "      <td>6</td>\n",
       "      <td>460</td>\n",
       "      <td>1</td>\n",
       "      <td>181500</td>\n",
       "    </tr>\n",
       "    <tr>\n",
       "      <th>2</th>\n",
       "      <td>11250</td>\n",
       "      <td>7</td>\n",
       "      <td>5</td>\n",
       "      <td>920</td>\n",
       "      <td>920</td>\n",
       "      <td>866</td>\n",
       "      <td>1786</td>\n",
       "      <td>6</td>\n",
       "      <td>608</td>\n",
       "      <td>1</td>\n",
       "      <td>223500</td>\n",
       "    </tr>\n",
       "    <tr>\n",
       "      <th>3</th>\n",
       "      <td>9550</td>\n",
       "      <td>7</td>\n",
       "      <td>5</td>\n",
       "      <td>756</td>\n",
       "      <td>961</td>\n",
       "      <td>756</td>\n",
       "      <td>1717</td>\n",
       "      <td>7</td>\n",
       "      <td>642</td>\n",
       "      <td>1</td>\n",
       "      <td>140000</td>\n",
       "    </tr>\n",
       "    <tr>\n",
       "      <th>4</th>\n",
       "      <td>14260</td>\n",
       "      <td>8</td>\n",
       "      <td>5</td>\n",
       "      <td>1145</td>\n",
       "      <td>1145</td>\n",
       "      <td>1053</td>\n",
       "      <td>2198</td>\n",
       "      <td>9</td>\n",
       "      <td>836</td>\n",
       "      <td>1</td>\n",
       "      <td>250000</td>\n",
       "    </tr>\n",
       "  </tbody>\n",
       "</table>\n",
       "</div>"
      ],
      "text/plain": [
       "   LotArea  OverallQual  OverallCond  TotalBsmtSF  1stFlrSF  2ndFlrSF  \\\n",
       "0     8450            7            5          856       856       854   \n",
       "1     9600            6            8         1262      1262         0   \n",
       "2    11250            7            5          920       920       866   \n",
       "3     9550            7            5          756       961       756   \n",
       "4    14260            8            5         1145      1145      1053   \n",
       "\n",
       "   GrLivArea  TotRmsAbvGrd  GarageArea  Fireplaces  SalePrice  \n",
       "0       1710             8         548           0     208500  \n",
       "1       1262             6         460           1     181500  \n",
       "2       1786             6         608           1     223500  \n",
       "3       1717             7         642           1     140000  \n",
       "4       2198             9         836           1     250000  "
      ]
     },
     "execution_count": 52,
     "metadata": {},
     "output_type": "execute_result"
    }
   ],
   "source": [
    "df.head()"
   ]
  },
  {
   "cell_type": "code",
   "execution_count": null,
   "metadata": {},
   "outputs": [],
   "source": []
  },
  {
   "cell_type": "markdown",
   "metadata": {},
   "source": [
    "## Look at a baseline housing data model"
   ]
  },
  {
   "cell_type": "markdown",
   "metadata": {},
   "source": [
    "Above, we imported the Ames housing data and grabbed a subset of the data to use in this analysis.\n",
    "\n",
    "Next steps:\n",
    "\n",
    "- Split the data into target (`y`) and predictors (`X`) -- ensure these both are DataFrames \n",
    "- Scale all the predictors using `scale`. Convert these scaled features into a DataFrame \n",
    "- Build at a baseline model using *scaled variables* as predictors. Use 5-fold cross-validation (set `random_state` to 1) and use the $R^2$ score to evaluate the model "
   ]
  },
  {
   "cell_type": "code",
   "execution_count": 53,
   "metadata": {},
   "outputs": [],
   "source": [
    "# Your code here\n",
    "features = pd.DataFrame(df.iloc[:,:-1])\n",
    "target = pd.DataFrame(df.iloc[:,-1], columns = ['SalePrice'])"
   ]
  },
  {
   "cell_type": "code",
   "execution_count": 54,
   "metadata": {},
   "outputs": [
    {
     "data": {
      "text/html": [
       "<div>\n",
       "<style scoped>\n",
       "    .dataframe tbody tr th:only-of-type {\n",
       "        vertical-align: middle;\n",
       "    }\n",
       "\n",
       "    .dataframe tbody tr th {\n",
       "        vertical-align: top;\n",
       "    }\n",
       "\n",
       "    .dataframe thead th {\n",
       "        text-align: right;\n",
       "    }\n",
       "</style>\n",
       "<table border=\"1\" class=\"dataframe\">\n",
       "  <thead>\n",
       "    <tr style=\"text-align: right;\">\n",
       "      <th></th>\n",
       "      <th>LotArea</th>\n",
       "      <th>OverallQual</th>\n",
       "      <th>OverallCond</th>\n",
       "      <th>TotalBsmtSF</th>\n",
       "      <th>1stFlrSF</th>\n",
       "      <th>2ndFlrSF</th>\n",
       "      <th>GrLivArea</th>\n",
       "      <th>TotRmsAbvGrd</th>\n",
       "      <th>GarageArea</th>\n",
       "      <th>Fireplaces</th>\n",
       "    </tr>\n",
       "  </thead>\n",
       "  <tbody>\n",
       "    <tr>\n",
       "      <th>0</th>\n",
       "      <td>8450</td>\n",
       "      <td>7</td>\n",
       "      <td>5</td>\n",
       "      <td>856</td>\n",
       "      <td>856</td>\n",
       "      <td>854</td>\n",
       "      <td>1710</td>\n",
       "      <td>8</td>\n",
       "      <td>548</td>\n",
       "      <td>0</td>\n",
       "    </tr>\n",
       "    <tr>\n",
       "      <th>1</th>\n",
       "      <td>9600</td>\n",
       "      <td>6</td>\n",
       "      <td>8</td>\n",
       "      <td>1262</td>\n",
       "      <td>1262</td>\n",
       "      <td>0</td>\n",
       "      <td>1262</td>\n",
       "      <td>6</td>\n",
       "      <td>460</td>\n",
       "      <td>1</td>\n",
       "    </tr>\n",
       "    <tr>\n",
       "      <th>2</th>\n",
       "      <td>11250</td>\n",
       "      <td>7</td>\n",
       "      <td>5</td>\n",
       "      <td>920</td>\n",
       "      <td>920</td>\n",
       "      <td>866</td>\n",
       "      <td>1786</td>\n",
       "      <td>6</td>\n",
       "      <td>608</td>\n",
       "      <td>1</td>\n",
       "    </tr>\n",
       "    <tr>\n",
       "      <th>3</th>\n",
       "      <td>9550</td>\n",
       "      <td>7</td>\n",
       "      <td>5</td>\n",
       "      <td>756</td>\n",
       "      <td>961</td>\n",
       "      <td>756</td>\n",
       "      <td>1717</td>\n",
       "      <td>7</td>\n",
       "      <td>642</td>\n",
       "      <td>1</td>\n",
       "    </tr>\n",
       "    <tr>\n",
       "      <th>4</th>\n",
       "      <td>14260</td>\n",
       "      <td>8</td>\n",
       "      <td>5</td>\n",
       "      <td>1145</td>\n",
       "      <td>1145</td>\n",
       "      <td>1053</td>\n",
       "      <td>2198</td>\n",
       "      <td>9</td>\n",
       "      <td>836</td>\n",
       "      <td>1</td>\n",
       "    </tr>\n",
       "    <tr>\n",
       "      <th>...</th>\n",
       "      <td>...</td>\n",
       "      <td>...</td>\n",
       "      <td>...</td>\n",
       "      <td>...</td>\n",
       "      <td>...</td>\n",
       "      <td>...</td>\n",
       "      <td>...</td>\n",
       "      <td>...</td>\n",
       "      <td>...</td>\n",
       "      <td>...</td>\n",
       "    </tr>\n",
       "    <tr>\n",
       "      <th>1455</th>\n",
       "      <td>7917</td>\n",
       "      <td>6</td>\n",
       "      <td>5</td>\n",
       "      <td>953</td>\n",
       "      <td>953</td>\n",
       "      <td>694</td>\n",
       "      <td>1647</td>\n",
       "      <td>7</td>\n",
       "      <td>460</td>\n",
       "      <td>1</td>\n",
       "    </tr>\n",
       "    <tr>\n",
       "      <th>1456</th>\n",
       "      <td>13175</td>\n",
       "      <td>6</td>\n",
       "      <td>6</td>\n",
       "      <td>1542</td>\n",
       "      <td>2073</td>\n",
       "      <td>0</td>\n",
       "      <td>2073</td>\n",
       "      <td>7</td>\n",
       "      <td>500</td>\n",
       "      <td>2</td>\n",
       "    </tr>\n",
       "    <tr>\n",
       "      <th>1457</th>\n",
       "      <td>9042</td>\n",
       "      <td>7</td>\n",
       "      <td>9</td>\n",
       "      <td>1152</td>\n",
       "      <td>1188</td>\n",
       "      <td>1152</td>\n",
       "      <td>2340</td>\n",
       "      <td>9</td>\n",
       "      <td>252</td>\n",
       "      <td>2</td>\n",
       "    </tr>\n",
       "    <tr>\n",
       "      <th>1458</th>\n",
       "      <td>9717</td>\n",
       "      <td>5</td>\n",
       "      <td>6</td>\n",
       "      <td>1078</td>\n",
       "      <td>1078</td>\n",
       "      <td>0</td>\n",
       "      <td>1078</td>\n",
       "      <td>5</td>\n",
       "      <td>240</td>\n",
       "      <td>0</td>\n",
       "    </tr>\n",
       "    <tr>\n",
       "      <th>1459</th>\n",
       "      <td>9937</td>\n",
       "      <td>5</td>\n",
       "      <td>6</td>\n",
       "      <td>1256</td>\n",
       "      <td>1256</td>\n",
       "      <td>0</td>\n",
       "      <td>1256</td>\n",
       "      <td>6</td>\n",
       "      <td>276</td>\n",
       "      <td>0</td>\n",
       "    </tr>\n",
       "  </tbody>\n",
       "</table>\n",
       "<p>1460 rows × 10 columns</p>\n",
       "</div>"
      ],
      "text/plain": [
       "      LotArea  OverallQual  OverallCond  TotalBsmtSF  1stFlrSF  2ndFlrSF  \\\n",
       "0        8450            7            5          856       856       854   \n",
       "1        9600            6            8         1262      1262         0   \n",
       "2       11250            7            5          920       920       866   \n",
       "3        9550            7            5          756       961       756   \n",
       "4       14260            8            5         1145      1145      1053   \n",
       "...       ...          ...          ...          ...       ...       ...   \n",
       "1455     7917            6            5          953       953       694   \n",
       "1456    13175            6            6         1542      2073         0   \n",
       "1457     9042            7            9         1152      1188      1152   \n",
       "1458     9717            5            6         1078      1078         0   \n",
       "1459     9937            5            6         1256      1256         0   \n",
       "\n",
       "      GrLivArea  TotRmsAbvGrd  GarageArea  Fireplaces  \n",
       "0          1710             8         548           0  \n",
       "1          1262             6         460           1  \n",
       "2          1786             6         608           1  \n",
       "3          1717             7         642           1  \n",
       "4          2198             9         836           1  \n",
       "...         ...           ...         ...         ...  \n",
       "1455       1647             7         460           1  \n",
       "1456       2073             7         500           2  \n",
       "1457       2340             9         252           2  \n",
       "1458       1078             5         240           0  \n",
       "1459       1256             6         276           0  \n",
       "\n",
       "[1460 rows x 10 columns]"
      ]
     },
     "execution_count": 54,
     "metadata": {},
     "output_type": "execute_result"
    }
   ],
   "source": [
    "features"
   ]
  },
  {
   "cell_type": "code",
   "execution_count": 55,
   "metadata": {},
   "outputs": [],
   "source": [
    "features_scaled = pd.DataFrame(scale(features), columns=features.columns)"
   ]
  },
  {
   "cell_type": "code",
   "execution_count": 56,
   "metadata": {},
   "outputs": [],
   "source": [
    "def run_model(model, x_train, y_train, x_test, y_test):\n",
    "    print(\"Training r2: \", model.score(x_train, y_train))\n",
    "    y_train_predict = model.predict(x_train)\n",
    "    print(\"Training RMSE: \", np.sqrt(metrics.mean_squared_error(y_train, y_train_predict)))\n",
    "    print(\"---------\")\n",
    "    print(\"Test r2: \", model.score(x_test, y_test))\n",
    "    y_test_predict = model.predict(x_test)\n",
    "    print(\"Test RMSE: \", np.sqrt(metrics.mean_squared_error(y_test, y_test_predict)))"
   ]
  },
  {
   "cell_type": "code",
   "execution_count": 57,
   "metadata": {},
   "outputs": [
    {
     "name": "stdout",
     "output_type": "stream",
     "text": [
      "0.752\n"
     ]
    }
   ],
   "source": [
    "lr = LinearRegression()\n",
    "cross_validation = KFold(n_splits=5, random_state=1, shuffle=True)\n",
    "baseline = np.mean(cross_val_score(lr, features_scaled, target, cv=cross_validation, scoring='r2'))\n",
    "print(round(baseline, 3))"
   ]
  },
  {
   "cell_type": "markdown",
   "metadata": {},
   "source": [
    "## Include interactions\n",
    "\n",
    "Look at all the possible combinations of variables for interactions by adding interactions one by one to the baseline model. Next, evaluate that model using 5-fold cross-validation and store the $R^2$ to compare it with the baseline model.\n",
    "\n",
    "Print the 7 most important interactions."
   ]
  },
  {
   "cell_type": "code",
   "execution_count": 58,
   "metadata": {},
   "outputs": [
    {
     "data": {
      "text/html": [
       "<div>\n",
       "<style scoped>\n",
       "    .dataframe tbody tr th:only-of-type {\n",
       "        vertical-align: middle;\n",
       "    }\n",
       "\n",
       "    .dataframe tbody tr th {\n",
       "        vertical-align: top;\n",
       "    }\n",
       "\n",
       "    .dataframe thead th {\n",
       "        text-align: right;\n",
       "    }\n",
       "</style>\n",
       "<table border=\"1\" class=\"dataframe\">\n",
       "  <thead>\n",
       "    <tr style=\"text-align: right;\">\n",
       "      <th></th>\n",
       "      <th>LotArea</th>\n",
       "      <th>OverallQual</th>\n",
       "      <th>OverallCond</th>\n",
       "      <th>TotalBsmtSF</th>\n",
       "      <th>1stFlrSF</th>\n",
       "      <th>2ndFlrSF</th>\n",
       "      <th>GrLivArea</th>\n",
       "      <th>TotRmsAbvGrd</th>\n",
       "      <th>GarageArea</th>\n",
       "      <th>Fireplaces</th>\n",
       "      <th>...</th>\n",
       "      <th>GrLivArea^2</th>\n",
       "      <th>GrLivArea TotRmsAbvGrd</th>\n",
       "      <th>GrLivArea GarageArea</th>\n",
       "      <th>GrLivArea Fireplaces</th>\n",
       "      <th>TotRmsAbvGrd^2</th>\n",
       "      <th>TotRmsAbvGrd GarageArea</th>\n",
       "      <th>TotRmsAbvGrd Fireplaces</th>\n",
       "      <th>GarageArea^2</th>\n",
       "      <th>GarageArea Fireplaces</th>\n",
       "      <th>Fireplaces^2</th>\n",
       "    </tr>\n",
       "  </thead>\n",
       "  <tbody>\n",
       "    <tr>\n",
       "      <th>0</th>\n",
       "      <td>-0.207142</td>\n",
       "      <td>0.651479</td>\n",
       "      <td>-0.517200</td>\n",
       "      <td>-0.459303</td>\n",
       "      <td>-0.793434</td>\n",
       "      <td>1.161852</td>\n",
       "      <td>0.370333</td>\n",
       "      <td>0.912210</td>\n",
       "      <td>0.351000</td>\n",
       "      <td>-0.951226</td>\n",
       "      <td>...</td>\n",
       "      <td>0.137147</td>\n",
       "      <td>0.337822</td>\n",
       "      <td>0.129987</td>\n",
       "      <td>-0.352271</td>\n",
       "      <td>0.832127</td>\n",
       "      <td>0.320186</td>\n",
       "      <td>-0.867718</td>\n",
       "      <td>0.123201</td>\n",
       "      <td>-0.333881</td>\n",
       "      <td>0.904832</td>\n",
       "    </tr>\n",
       "    <tr>\n",
       "      <th>1</th>\n",
       "      <td>-0.091886</td>\n",
       "      <td>-0.071836</td>\n",
       "      <td>2.179628</td>\n",
       "      <td>0.466465</td>\n",
       "      <td>0.257140</td>\n",
       "      <td>-0.795163</td>\n",
       "      <td>-0.482512</td>\n",
       "      <td>-0.318683</td>\n",
       "      <td>-0.060731</td>\n",
       "      <td>0.600495</td>\n",
       "      <td>...</td>\n",
       "      <td>0.232818</td>\n",
       "      <td>0.153768</td>\n",
       "      <td>0.029303</td>\n",
       "      <td>-0.289746</td>\n",
       "      <td>0.101559</td>\n",
       "      <td>0.019354</td>\n",
       "      <td>-0.191368</td>\n",
       "      <td>0.003688</td>\n",
       "      <td>-0.036469</td>\n",
       "      <td>0.360594</td>\n",
       "    </tr>\n",
       "    <tr>\n",
       "      <th>2</th>\n",
       "      <td>0.073480</td>\n",
       "      <td>0.651479</td>\n",
       "      <td>-0.517200</td>\n",
       "      <td>-0.313369</td>\n",
       "      <td>-0.627826</td>\n",
       "      <td>1.189351</td>\n",
       "      <td>0.515013</td>\n",
       "      <td>-0.318683</td>\n",
       "      <td>0.631726</td>\n",
       "      <td>0.600495</td>\n",
       "      <td>...</td>\n",
       "      <td>0.265238</td>\n",
       "      <td>-0.164126</td>\n",
       "      <td>0.325347</td>\n",
       "      <td>0.309262</td>\n",
       "      <td>0.101559</td>\n",
       "      <td>-0.201321</td>\n",
       "      <td>-0.191368</td>\n",
       "      <td>0.399078</td>\n",
       "      <td>0.379348</td>\n",
       "      <td>0.360594</td>\n",
       "    </tr>\n",
       "    <tr>\n",
       "      <th>3</th>\n",
       "      <td>-0.096897</td>\n",
       "      <td>0.651479</td>\n",
       "      <td>-0.517200</td>\n",
       "      <td>-0.687324</td>\n",
       "      <td>-0.521734</td>\n",
       "      <td>0.937276</td>\n",
       "      <td>0.383659</td>\n",
       "      <td>0.296763</td>\n",
       "      <td>0.790804</td>\n",
       "      <td>0.600495</td>\n",
       "      <td>...</td>\n",
       "      <td>0.147194</td>\n",
       "      <td>0.113856</td>\n",
       "      <td>0.303399</td>\n",
       "      <td>0.230385</td>\n",
       "      <td>0.088068</td>\n",
       "      <td>0.234682</td>\n",
       "      <td>0.178205</td>\n",
       "      <td>0.625371</td>\n",
       "      <td>0.474874</td>\n",
       "      <td>0.360594</td>\n",
       "    </tr>\n",
       "    <tr>\n",
       "      <th>4</th>\n",
       "      <td>0.375148</td>\n",
       "      <td>1.374795</td>\n",
       "      <td>-0.517200</td>\n",
       "      <td>0.199680</td>\n",
       "      <td>-0.045611</td>\n",
       "      <td>1.617877</td>\n",
       "      <td>1.299326</td>\n",
       "      <td>1.527656</td>\n",
       "      <td>1.698485</td>\n",
       "      <td>0.600495</td>\n",
       "      <td>...</td>\n",
       "      <td>1.688247</td>\n",
       "      <td>1.984923</td>\n",
       "      <td>2.206885</td>\n",
       "      <td>0.780239</td>\n",
       "      <td>2.333734</td>\n",
       "      <td>2.594701</td>\n",
       "      <td>0.917350</td>\n",
       "      <td>2.884850</td>\n",
       "      <td>1.019931</td>\n",
       "      <td>0.360594</td>\n",
       "    </tr>\n",
       "  </tbody>\n",
       "</table>\n",
       "<p>5 rows × 65 columns</p>\n",
       "</div>"
      ],
      "text/plain": [
       "    LotArea  OverallQual  OverallCond  TotalBsmtSF  1stFlrSF  2ndFlrSF  \\\n",
       "0 -0.207142     0.651479    -0.517200    -0.459303 -0.793434  1.161852   \n",
       "1 -0.091886    -0.071836     2.179628     0.466465  0.257140 -0.795163   \n",
       "2  0.073480     0.651479    -0.517200    -0.313369 -0.627826  1.189351   \n",
       "3 -0.096897     0.651479    -0.517200    -0.687324 -0.521734  0.937276   \n",
       "4  0.375148     1.374795    -0.517200     0.199680 -0.045611  1.617877   \n",
       "\n",
       "   GrLivArea  TotRmsAbvGrd  GarageArea  Fireplaces  ...  GrLivArea^2  \\\n",
       "0   0.370333      0.912210    0.351000   -0.951226  ...     0.137147   \n",
       "1  -0.482512     -0.318683   -0.060731    0.600495  ...     0.232818   \n",
       "2   0.515013     -0.318683    0.631726    0.600495  ...     0.265238   \n",
       "3   0.383659      0.296763    0.790804    0.600495  ...     0.147194   \n",
       "4   1.299326      1.527656    1.698485    0.600495  ...     1.688247   \n",
       "\n",
       "   GrLivArea TotRmsAbvGrd  GrLivArea GarageArea  GrLivArea Fireplaces  \\\n",
       "0                0.337822              0.129987             -0.352271   \n",
       "1                0.153768              0.029303             -0.289746   \n",
       "2               -0.164126              0.325347              0.309262   \n",
       "3                0.113856              0.303399              0.230385   \n",
       "4                1.984923              2.206885              0.780239   \n",
       "\n",
       "   TotRmsAbvGrd^2  TotRmsAbvGrd GarageArea  TotRmsAbvGrd Fireplaces  \\\n",
       "0        0.832127                 0.320186                -0.867718   \n",
       "1        0.101559                 0.019354                -0.191368   \n",
       "2        0.101559                -0.201321                -0.191368   \n",
       "3        0.088068                 0.234682                 0.178205   \n",
       "4        2.333734                 2.594701                 0.917350   \n",
       "\n",
       "   GarageArea^2  GarageArea Fireplaces  Fireplaces^2  \n",
       "0      0.123201              -0.333881      0.904832  \n",
       "1      0.003688              -0.036469      0.360594  \n",
       "2      0.399078               0.379348      0.360594  \n",
       "3      0.625371               0.474874      0.360594  \n",
       "4      2.884850               1.019931      0.360594  \n",
       "\n",
       "[5 rows x 65 columns]"
      ]
     },
     "execution_count": 58,
     "metadata": {},
     "output_type": "execute_result"
    }
   ],
   "source": [
    "# Your code here\n",
    "poly = PolynomialFeatures(degree=2,interaction_only=False, include_bias=False)\n",
    "features_poly = pd.DataFrame(poly.fit_transform(features_scaled), columns=poly.get_feature_names(features_scaled.columns))\n",
    "features_poly.head()"
   ]
  },
  {
   "cell_type": "code",
   "execution_count": 59,
   "metadata": {},
   "outputs": [],
   "source": [
    "combos = combinations(list(features_scaled.columns), 2)\n",
    "top_features_models = []\n",
    "data = features_scaled.copy()\n",
    "for combo in combos:\n",
    "    data['interaction'] = data[combo[0]] * data[combo[1]]\n",
    "    #lr = LinearRegression()\n",
    "    #cross_validation = KFold(n_splits=5, random_state=1, shuffle=True)\n",
    "    r_2 = np.mean(cross_val_score(lr, data, target, cv=cross_validation, scoring='r2'))\n",
    "    if r_2 > baseline:\n",
    "        top_features_models.append((combo[0], combo[1], round(r_2, 3)))"
   ]
  },
  {
   "cell_type": "code",
   "execution_count": 60,
   "metadata": {},
   "outputs": [],
   "source": [
    "top_features_models.sort(key=lambda x: x[2], reverse=True)"
   ]
  },
  {
   "cell_type": "code",
   "execution_count": 61,
   "metadata": {},
   "outputs": [
    {
     "data": {
      "text/plain": [
       "[('OverallQual', 'TotRmsAbvGrd', 0.77),\n",
       " ('OverallQual', 'GarageArea', 0.764),\n",
       " ('OverallQual', '2ndFlrSF', 0.758),\n",
       " ('2ndFlrSF', 'GrLivArea', 0.756),\n",
       " ('2ndFlrSF', 'TotRmsAbvGrd', 0.756),\n",
       " ('OverallQual', 'Fireplaces', 0.754),\n",
       " ('OverallCond', 'TotalBsmtSF', 0.754)]"
      ]
     },
     "execution_count": 61,
     "metadata": {},
     "output_type": "execute_result"
    }
   ],
   "source": [
    "top_features_models[:7]"
   ]
  },
  {
   "cell_type": "markdown",
   "metadata": {},
   "source": [
    "Write code to include the 7 most important interactions in your data set by adding 7 columns. Name the columns \"var1_var2\", where var1 and var2 are the two variables in the interaction."
   ]
  },
  {
   "cell_type": "code",
   "execution_count": 62,
   "metadata": {},
   "outputs": [
    {
     "data": {
      "text/plain": [
       "0.7326820882318229"
      ]
     },
     "execution_count": 62,
     "metadata": {},
     "output_type": "execute_result"
    }
   ],
   "source": [
    "# Your code here\n",
    "data_inter = features_scaled.copy()\n",
    "for combo in top_features_models[:7]:\n",
    "    interaction = combo[0] + '_' + combo[1]\n",
    "    data_inter[interaction] = data_inter[combo[0]] * data_inter[combo[1]]\n",
    "#lr = LinearRegression()\n",
    "#cross_validation = KFold(n_splits=5, random_state=1, shuffle=True)\n",
    "r_2 = np.mean(cross_val_score(lr, data, target, cv=cross_validation, scoring='r2'))\n",
    "r_2"
   ]
  },
  {
   "cell_type": "code",
   "execution_count": 63,
   "metadata": {},
   "outputs": [
    {
     "data": {
      "text/plain": [
       "17"
      ]
     },
     "execution_count": 63,
     "metadata": {},
     "output_type": "execute_result"
    }
   ],
   "source": [
    "len(list(data_inter.columns))"
   ]
  },
  {
   "cell_type": "code",
   "execution_count": 64,
   "metadata": {},
   "outputs": [
    {
     "data": {
      "text/html": [
       "<div>\n",
       "<style scoped>\n",
       "    .dataframe tbody tr th:only-of-type {\n",
       "        vertical-align: middle;\n",
       "    }\n",
       "\n",
       "    .dataframe tbody tr th {\n",
       "        vertical-align: top;\n",
       "    }\n",
       "\n",
       "    .dataframe thead th {\n",
       "        text-align: right;\n",
       "    }\n",
       "</style>\n",
       "<table border=\"1\" class=\"dataframe\">\n",
       "  <thead>\n",
       "    <tr style=\"text-align: right;\">\n",
       "      <th></th>\n",
       "      <th>LotArea</th>\n",
       "      <th>OverallQual</th>\n",
       "      <th>OverallCond</th>\n",
       "      <th>TotalBsmtSF</th>\n",
       "      <th>1stFlrSF</th>\n",
       "      <th>2ndFlrSF</th>\n",
       "      <th>GrLivArea</th>\n",
       "      <th>TotRmsAbvGrd</th>\n",
       "      <th>GarageArea</th>\n",
       "      <th>Fireplaces</th>\n",
       "      <th>OverallQual_TotRmsAbvGrd</th>\n",
       "      <th>OverallQual_GarageArea</th>\n",
       "      <th>OverallQual_2ndFlrSF</th>\n",
       "      <th>2ndFlrSF_GrLivArea</th>\n",
       "      <th>2ndFlrSF_TotRmsAbvGrd</th>\n",
       "      <th>OverallQual_Fireplaces</th>\n",
       "      <th>OverallCond_TotalBsmtSF</th>\n",
       "    </tr>\n",
       "  </thead>\n",
       "  <tbody>\n",
       "    <tr>\n",
       "      <th>0</th>\n",
       "      <td>-0.207142</td>\n",
       "      <td>0.651479</td>\n",
       "      <td>-0.517200</td>\n",
       "      <td>-0.459303</td>\n",
       "      <td>-0.793434</td>\n",
       "      <td>1.161852</td>\n",
       "      <td>0.370333</td>\n",
       "      <td>0.912210</td>\n",
       "      <td>0.351000</td>\n",
       "      <td>-0.951226</td>\n",
       "      <td>0.594286</td>\n",
       "      <td>0.228669</td>\n",
       "      <td>0.756922</td>\n",
       "      <td>0.430272</td>\n",
       "      <td>1.059852</td>\n",
       "      <td>-0.619704</td>\n",
       "      <td>0.237551</td>\n",
       "    </tr>\n",
       "    <tr>\n",
       "      <th>1</th>\n",
       "      <td>-0.091886</td>\n",
       "      <td>-0.071836</td>\n",
       "      <td>2.179628</td>\n",
       "      <td>0.466465</td>\n",
       "      <td>0.257140</td>\n",
       "      <td>-0.795163</td>\n",
       "      <td>-0.482512</td>\n",
       "      <td>-0.318683</td>\n",
       "      <td>-0.060731</td>\n",
       "      <td>0.600495</td>\n",
       "      <td>0.022893</td>\n",
       "      <td>0.004363</td>\n",
       "      <td>0.057121</td>\n",
       "      <td>0.383676</td>\n",
       "      <td>0.253405</td>\n",
       "      <td>-0.043137</td>\n",
       "      <td>1.016720</td>\n",
       "    </tr>\n",
       "    <tr>\n",
       "      <th>2</th>\n",
       "      <td>0.073480</td>\n",
       "      <td>0.651479</td>\n",
       "      <td>-0.517200</td>\n",
       "      <td>-0.313369</td>\n",
       "      <td>-0.627826</td>\n",
       "      <td>1.189351</td>\n",
       "      <td>0.515013</td>\n",
       "      <td>-0.318683</td>\n",
       "      <td>0.631726</td>\n",
       "      <td>0.600495</td>\n",
       "      <td>-0.207616</td>\n",
       "      <td>0.411557</td>\n",
       "      <td>0.774837</td>\n",
       "      <td>0.612531</td>\n",
       "      <td>-0.379026</td>\n",
       "      <td>0.391210</td>\n",
       "      <td>0.162074</td>\n",
       "    </tr>\n",
       "    <tr>\n",
       "      <th>3</th>\n",
       "      <td>-0.096897</td>\n",
       "      <td>0.651479</td>\n",
       "      <td>-0.517200</td>\n",
       "      <td>-0.687324</td>\n",
       "      <td>-0.521734</td>\n",
       "      <td>0.937276</td>\n",
       "      <td>0.383659</td>\n",
       "      <td>0.296763</td>\n",
       "      <td>0.790804</td>\n",
       "      <td>0.600495</td>\n",
       "      <td>0.193335</td>\n",
       "      <td>0.515193</td>\n",
       "      <td>0.610616</td>\n",
       "      <td>0.359595</td>\n",
       "      <td>0.278149</td>\n",
       "      <td>0.391210</td>\n",
       "      <td>0.355484</td>\n",
       "    </tr>\n",
       "    <tr>\n",
       "      <th>4</th>\n",
       "      <td>0.375148</td>\n",
       "      <td>1.374795</td>\n",
       "      <td>-0.517200</td>\n",
       "      <td>0.199680</td>\n",
       "      <td>-0.045611</td>\n",
       "      <td>1.617877</td>\n",
       "      <td>1.299326</td>\n",
       "      <td>1.527656</td>\n",
       "      <td>1.698485</td>\n",
       "      <td>0.600495</td>\n",
       "      <td>2.100214</td>\n",
       "      <td>2.335068</td>\n",
       "      <td>2.224249</td>\n",
       "      <td>2.102150</td>\n",
       "      <td>2.471560</td>\n",
       "      <td>0.825557</td>\n",
       "      <td>-0.103274</td>\n",
       "    </tr>\n",
       "  </tbody>\n",
       "</table>\n",
       "</div>"
      ],
      "text/plain": [
       "    LotArea  OverallQual  OverallCond  TotalBsmtSF  1stFlrSF  2ndFlrSF  \\\n",
       "0 -0.207142     0.651479    -0.517200    -0.459303 -0.793434  1.161852   \n",
       "1 -0.091886    -0.071836     2.179628     0.466465  0.257140 -0.795163   \n",
       "2  0.073480     0.651479    -0.517200    -0.313369 -0.627826  1.189351   \n",
       "3 -0.096897     0.651479    -0.517200    -0.687324 -0.521734  0.937276   \n",
       "4  0.375148     1.374795    -0.517200     0.199680 -0.045611  1.617877   \n",
       "\n",
       "   GrLivArea  TotRmsAbvGrd  GarageArea  Fireplaces  OverallQual_TotRmsAbvGrd  \\\n",
       "0   0.370333      0.912210    0.351000   -0.951226                  0.594286   \n",
       "1  -0.482512     -0.318683   -0.060731    0.600495                  0.022893   \n",
       "2   0.515013     -0.318683    0.631726    0.600495                 -0.207616   \n",
       "3   0.383659      0.296763    0.790804    0.600495                  0.193335   \n",
       "4   1.299326      1.527656    1.698485    0.600495                  2.100214   \n",
       "\n",
       "   OverallQual_GarageArea  OverallQual_2ndFlrSF  2ndFlrSF_GrLivArea  \\\n",
       "0                0.228669              0.756922            0.430272   \n",
       "1                0.004363              0.057121            0.383676   \n",
       "2                0.411557              0.774837            0.612531   \n",
       "3                0.515193              0.610616            0.359595   \n",
       "4                2.335068              2.224249            2.102150   \n",
       "\n",
       "   2ndFlrSF_TotRmsAbvGrd  OverallQual_Fireplaces  OverallCond_TotalBsmtSF  \n",
       "0               1.059852               -0.619704                 0.237551  \n",
       "1               0.253405               -0.043137                 1.016720  \n",
       "2              -0.379026                0.391210                 0.162074  \n",
       "3               0.278149                0.391210                 0.355484  \n",
       "4               2.471560                0.825557                -0.103274  "
      ]
     },
     "execution_count": 64,
     "metadata": {},
     "output_type": "execute_result"
    }
   ],
   "source": [
    "data_inter.head()"
   ]
  },
  {
   "cell_type": "markdown",
   "metadata": {},
   "source": [
    "## Include polynomials"
   ]
  },
  {
   "cell_type": "markdown",
   "metadata": {},
   "source": [
    "Try polynomials of degrees 2, 3, and 4 for each variable, in a similar way you did for interactions (by looking at your baseline model and seeing how $R^2$ increases). Do understand that when going for a polynomial of 4, the particular column is raised to the power of 2 and 3 as well in other terms. We only want to include \"pure\" polynomials, so make sure no interactions are included. We want the result to return a list that contain tuples of the form:\n",
    "\n",
    "`(var_name, degree, R2)`, so eg. `('OverallQual', 2, 0.781)` "
   ]
  },
  {
   "cell_type": "code",
   "execution_count": 16,
   "metadata": {},
   "outputs": [],
   "source": [
    "# Your code here\n",
    "polynomial_scores = []\n",
    "for feature in features_scaled.columns:\n",
    "    for degree in [2, 3, 4]:\n",
    "        data = features_scaled.copy()\n",
    "        poly = PolynomialFeatures(degree=degree,include_bias=False)\n",
    "        transformed = poly.fit_transform(data[[feature]])\n",
    "        features_poly = pd.concat([data.drop(feature, axis=1), pd.DataFrame(transformed)], axis = 1)\n",
    "        #lr = LinearRegression()\n",
    "        #cross_validation = KFold(n_splits=5, random_state=1, shuffle=True)\n",
    "        r_2 = np.mean(cross_val_score(lr, features_poly, target, cv=cross_validation, scoring='r2'))\n",
    "        if r_2 > baseline:\n",
    "            polynomial_scores.append((feature, degree, round(r_2, 3)))"
   ]
  },
  {
   "cell_type": "markdown",
   "metadata": {},
   "source": [
    "For each variable, print out the maximum $R^2$ possible when including Polynomials."
   ]
  },
  {
   "cell_type": "code",
   "execution_count": 17,
   "metadata": {},
   "outputs": [
    {
     "data": {
      "text/html": [
       "<div>\n",
       "<style scoped>\n",
       "    .dataframe tbody tr th:only-of-type {\n",
       "        vertical-align: middle;\n",
       "    }\n",
       "\n",
       "    .dataframe tbody tr th {\n",
       "        vertical-align: top;\n",
       "    }\n",
       "\n",
       "    .dataframe thead th {\n",
       "        text-align: right;\n",
       "    }\n",
       "</style>\n",
       "<table border=\"1\" class=\"dataframe\">\n",
       "  <thead>\n",
       "    <tr style=\"text-align: right;\">\n",
       "      <th></th>\n",
       "      <th>feature</th>\n",
       "      <th>degree</th>\n",
       "      <th>score</th>\n",
       "    </tr>\n",
       "  </thead>\n",
       "  <tbody>\n",
       "    <tr>\n",
       "      <th>5</th>\n",
       "      <td>2ndFlrSF</td>\n",
       "      <td>3</td>\n",
       "      <td>0.775</td>\n",
       "    </tr>\n",
       "    <tr>\n",
       "      <th>11</th>\n",
       "      <td>GarageArea</td>\n",
       "      <td>4</td>\n",
       "      <td>0.767</td>\n",
       "    </tr>\n",
       "    <tr>\n",
       "      <th>8</th>\n",
       "      <td>GrLivArea</td>\n",
       "      <td>4</td>\n",
       "      <td>0.807</td>\n",
       "    </tr>\n",
       "    <tr>\n",
       "      <th>3</th>\n",
       "      <td>OverallCond</td>\n",
       "      <td>4</td>\n",
       "      <td>0.753</td>\n",
       "    </tr>\n",
       "    <tr>\n",
       "      <th>0</th>\n",
       "      <td>OverallQual</td>\n",
       "      <td>2</td>\n",
       "      <td>0.781</td>\n",
       "    </tr>\n",
       "    <tr>\n",
       "      <th>9</th>\n",
       "      <td>TotRmsAbvGrd</td>\n",
       "      <td>3</td>\n",
       "      <td>0.753</td>\n",
       "    </tr>\n",
       "  </tbody>\n",
       "</table>\n",
       "</div>"
      ],
      "text/plain": [
       "         feature  degree  score\n",
       "5       2ndFlrSF       3  0.775\n",
       "11    GarageArea       4  0.767\n",
       "8      GrLivArea       4  0.807\n",
       "3    OverallCond       4  0.753\n",
       "0    OverallQual       2  0.781\n",
       "9   TotRmsAbvGrd       3  0.753"
      ]
     },
     "execution_count": 17,
     "metadata": {},
     "output_type": "execute_result"
    }
   ],
   "source": [
    "poly_scores_pd = pd.DataFrame(polynomial_scores, columns=['feature', 'degree', 'score'])\n",
    "idx = poly_scores_pd.groupby(['feature'])['score'].transform(max) == poly_scores_pd['score']\n",
    "poly_scores_pd[idx].sort_values(by='feature', ascending=True)"
   ]
  },
  {
   "cell_type": "code",
   "execution_count": 18,
   "metadata": {},
   "outputs": [],
   "source": [
    "polynomial_scores.sort(key=lambda x: x[2], reverse=True)"
   ]
  },
  {
   "cell_type": "code",
   "execution_count": 19,
   "metadata": {},
   "outputs": [
    {
     "data": {
      "text/plain": [
       "[('GrLivArea', 4, 0.807),\n",
       " ('GrLivArea', 3, 0.788),\n",
       " ('OverallQual', 2, 0.781),\n",
       " ('OverallQual', 3, 0.779),\n",
       " ('OverallQual', 4, 0.779),\n",
       " ('2ndFlrSF', 3, 0.775),\n",
       " ('2ndFlrSF', 2, 0.771),\n",
       " ('2ndFlrSF', 4, 0.771),\n",
       " ('GarageArea', 4, 0.767),\n",
       " ('GarageArea', 3, 0.758)]"
      ]
     },
     "execution_count": 19,
     "metadata": {},
     "output_type": "execute_result"
    }
   ],
   "source": [
    "polynomial_scores[:10]"
   ]
  },
  {
   "cell_type": "markdown",
   "metadata": {},
   "source": [
    "Which two variables seem to benefit most from adding polynomial terms?"
   ]
  },
  {
   "cell_type": "markdown",
   "metadata": {},
   "source": [
    "GRLivArea and overall quality benefit the most, using degrees 4 and 2 respectively."
   ]
  },
  {
   "cell_type": "markdown",
   "metadata": {},
   "source": [
    "Add Polynomials for the two features that seem to benefit the most, as in have the best $R^2$ compared to the baseline model. For each of the two features, raise to the Polynomial that generates the best result. Make sure to start from the data set `df_inter` so the final data set has both interactions and polynomials in the model."
   ]
  },
  {
   "cell_type": "code",
   "execution_count": 20,
   "metadata": {},
   "outputs": [
    {
     "data": {
      "text/plain": [
       "17"
      ]
     },
     "execution_count": 20,
     "metadata": {},
     "output_type": "execute_result"
    }
   ],
   "source": [
    "len(data_inter.columns)"
   ]
  },
  {
   "cell_type": "code",
   "execution_count": 21,
   "metadata": {},
   "outputs": [],
   "source": [
    "# Your code here\n",
    "d_inter = data_inter.copy()\n",
    "for feature in ['GrLivArea', 'OverallQual']:\n",
    "    column_names = [feature, feature + '_2', feature + '_3', feature + '_4']\n",
    "    poly = PolynomialFeatures(degree=4,include_bias=False)\n",
    "    feature_transformed = poly.fit_transform(features_scaled[[feature]])\n",
    "    feature_poly = pd.DataFrame(feature_transformed,columns=column_names)\n",
    "    d_inter.drop([feature], inplace=True, axis=1)\n",
    "    d_inter = pd.concat([d_inter, feature_poly], axis=1)"
   ]
  },
  {
   "cell_type": "markdown",
   "metadata": {},
   "source": [
    "Check out your final data set and make sure that your interaction terms as well as your polynomial terms are included."
   ]
  },
  {
   "cell_type": "code",
   "execution_count": 22,
   "metadata": {},
   "outputs": [
    {
     "data": {
      "text/plain": [
       "23"
      ]
     },
     "execution_count": 22,
     "metadata": {},
     "output_type": "execute_result"
    }
   ],
   "source": [
    "# Your code here\n",
    "len(list(d_inter.columns))"
   ]
  },
  {
   "cell_type": "markdown",
   "metadata": {},
   "source": [
    "## Full model R-squared"
   ]
  },
  {
   "cell_type": "markdown",
   "metadata": {},
   "source": [
    "Check out the $R^2$ of the full model."
   ]
  },
  {
   "cell_type": "code",
   "execution_count": 23,
   "metadata": {},
   "outputs": [
    {
     "data": {
      "text/plain": [
       "0.824594474292746"
      ]
     },
     "execution_count": 23,
     "metadata": {},
     "output_type": "execute_result"
    }
   ],
   "source": [
    "# Your code here\n",
    "#lr = LinearRegression()\n",
    "#cross_validation = cross_validation = KFold(n_splits=5, random_state=1, shuffle=True)\n",
    "r_2 = np.mean(cross_val_score(lr, d_inter, target, cv=cross_validation, scoring='r2'))\n",
    "r_2"
   ]
  },
  {
   "cell_type": "code",
   "execution_count": 24,
   "metadata": {},
   "outputs": [
    {
     "data": {
      "text/plain": [
       "0.7524751004088885"
      ]
     },
     "execution_count": 24,
     "metadata": {},
     "output_type": "execute_result"
    }
   ],
   "source": [
    "baseline"
   ]
  },
  {
   "cell_type": "markdown",
   "metadata": {},
   "source": [
    "## Find the best Lasso regularization parameter"
   ]
  },
  {
   "cell_type": "markdown",
   "metadata": {},
   "source": [
    "You learned that when using Lasso regularization, your coefficients shrink to 0 when using a higher regularization parameter. Now the question is which value we should choose for the regularization parameter. \n",
    "\n",
    "This is where the AIC and BIC come in handy! We'll use both criteria in what follows and perform cross-validation to select an optimal value of the regularization parameter $alpha$ of the Lasso estimator.\n",
    "\n",
    "Read the page here: https://scikit-learn.org/stable/auto_examples/linear_model/plot_lasso_model_selection.html and create a similar plot as the first one listed on the page. "
   ]
  },
  {
   "cell_type": "code",
   "execution_count": 25,
   "metadata": {},
   "outputs": [
    {
     "data": {
      "text/plain": [
       "(1460, 23)"
      ]
     },
     "execution_count": 25,
     "metadata": {},
     "output_type": "execute_result"
    }
   ],
   "source": [
    "d_inter.shape"
   ]
  },
  {
   "cell_type": "code",
   "execution_count": 26,
   "metadata": {},
   "outputs": [],
   "source": [
    "from sklearn.linear_model import Lasso, LassoCV, LassoLarsCV, LassoLarsIC"
   ]
  },
  {
   "cell_type": "code",
   "execution_count": 31,
   "metadata": {},
   "outputs": [],
   "source": [
    "model_bic = LassoLarsIC(criterion='bic')\n",
    "model_bic.fit(d_inter, target)\n",
    "alpha_bic_ = model_bic.alpha_\n",
    "\n",
    "model_aic = LassoLarsIC(criterion='aic')\n",
    "model_aic.fit(d_inter, target)\n",
    "alpha_aic_ = model_aic.alpha_"
   ]
  },
  {
   "cell_type": "code",
   "execution_count": 32,
   "metadata": {},
   "outputs": [
    {
     "data": {
      "text/plain": [
       "(25.44303508564659, 25.44303508564659)"
      ]
     },
     "execution_count": 32,
     "metadata": {},
     "output_type": "execute_result"
    }
   ],
   "source": [
    "alpha_aic_, alpha_bic_"
   ]
  },
  {
   "cell_type": "code",
   "execution_count": 40,
   "metadata": {},
   "outputs": [
    {
     "data": {
      "text/plain": [
       "(array([1460.        , 1059.69649263,  677.50560064,  682.4160463 ,\n",
       "         619.44902873,  502.71916714,  448.23880324,  421.00057717,\n",
       "         401.69712629,  397.4552894 ,  400.85998213,  386.07600378,\n",
       "         381.1391853 ,  363.10399407,  345.29730651,  329.52624844,\n",
       "         336.361525  ,  340.42848986,  346.00501212,  351.06902812,\n",
       "         350.80742125,  350.72317289,  357.15227983,  364.0035101 ,\n",
       "         369.51398384,  375.45933877]),\n",
       " array([1460.        , 1054.41030091,  666.93321721,  666.55747116,\n",
       "         598.30426187,  476.28820857,  416.52165295,  383.99723517,\n",
       "         359.40759257,  349.87956397,  347.99806499,  327.92789492,\n",
       "         317.70488473,  294.38350178,  271.2906225 ,  250.23337271,\n",
       "         251.78245756,  250.56323071,  250.85356126,  250.63138554,\n",
       "         250.36977867,  250.28553031,  251.42844553,  252.9934841 ,\n",
       "         253.21776611,  253.87692933]))"
      ]
     },
     "execution_count": 40,
     "metadata": {},
     "output_type": "execute_result"
    }
   ],
   "source": [
    "model_bic.criterion_, model_aic.criterion_"
   ]
  },
  {
   "cell_type": "code",
   "execution_count": 44,
   "metadata": {},
   "outputs": [
    {
     "data": {
      "text/plain": [
       "(15, 15)"
      ]
     },
     "execution_count": 44,
     "metadata": {},
     "output_type": "execute_result"
    }
   ],
   "source": [
    "b = np.where(model_bic.criterion_ == model_bic.criterion_.min())[0][0]\n",
    "a = np.where(model_aic.criterion_ == model_aic.criterion_.min())[0][0]\n",
    "b, a"
   ]
  },
  {
   "cell_type": "code",
   "execution_count": 45,
   "metadata": {},
   "outputs": [
    {
     "data": {
      "text/plain": [
       "(25.44303508564659, 25.44303508564659)"
      ]
     },
     "execution_count": 45,
     "metadata": {},
     "output_type": "execute_result"
    }
   ],
   "source": [
    "model_bic.alphas_[b], model_aic.alphas_[a]"
   ]
  },
  {
   "cell_type": "code",
   "execution_count": 35,
   "metadata": {},
   "outputs": [
    {
     "data": {
      "text/plain": [
       "(array([1643.97076387, 1223.39678953,  760.82094606,  757.65825035,\n",
       "         665.09303417,  459.39933642,  351.38420915,  279.43866359,\n",
       "         216.07348756,  202.28240876,  197.79839078,  171.6196864 ,\n",
       "         155.98624491,  124.31054504,   84.72093036,   25.44303509,\n",
       "          23.38716975,   14.97619628,   12.23469958,    7.88045613,\n",
       "           7.3297221 ,    7.05374388,    4.35920902,    3.80544246,\n",
       "           1.6729895 ,    0.        ]),\n",
       " array([1643.97076387, 1223.39678953,  760.82094606,  757.65825035,\n",
       "         665.09303417,  459.39933642,  351.38420915,  279.43866359,\n",
       "         216.07348756,  202.28240876,  197.79839078,  171.6196864 ,\n",
       "         155.98624491,  124.31054504,   84.72093036,   25.44303509,\n",
       "          23.38716975,   14.97619628,   12.23469958,    7.88045613,\n",
       "           7.3297221 ,    7.05374388,    4.35920902,    3.80544246,\n",
       "           1.6729895 ,    0.        ]))"
      ]
     },
     "execution_count": 35,
     "metadata": {},
     "output_type": "execute_result"
    }
   ],
   "source": [
    "model_bic.alphas_, model_aic.alphas_"
   ]
  },
  {
   "cell_type": "code",
   "execution_count": 48,
   "metadata": {},
   "outputs": [
    {
     "data": {
      "text/html": [
       "<div>\n",
       "<style scoped>\n",
       "    .dataframe tbody tr th:only-of-type {\n",
       "        vertical-align: middle;\n",
       "    }\n",
       "\n",
       "    .dataframe tbody tr th {\n",
       "        vertical-align: top;\n",
       "    }\n",
       "\n",
       "    .dataframe thead th {\n",
       "        text-align: right;\n",
       "    }\n",
       "</style>\n",
       "<table border=\"1\" class=\"dataframe\">\n",
       "  <thead>\n",
       "    <tr style=\"text-align: right;\">\n",
       "      <th></th>\n",
       "      <th>LotArea</th>\n",
       "      <th>OverallCond</th>\n",
       "      <th>TotalBsmtSF</th>\n",
       "      <th>1stFlrSF</th>\n",
       "      <th>2ndFlrSF</th>\n",
       "      <th>TotRmsAbvGrd</th>\n",
       "      <th>GarageArea</th>\n",
       "      <th>Fireplaces</th>\n",
       "      <th>OverallQual_TotRmsAbvGrd</th>\n",
       "      <th>OverallQual_GarageArea</th>\n",
       "      <th>...</th>\n",
       "      <th>OverallQual_Fireplaces</th>\n",
       "      <th>OverallCond_TotalBsmtSF</th>\n",
       "      <th>GrLivArea</th>\n",
       "      <th>GrLivArea_2</th>\n",
       "      <th>GrLivArea_3</th>\n",
       "      <th>GrLivArea_4</th>\n",
       "      <th>OverallQual</th>\n",
       "      <th>OverallQual_2</th>\n",
       "      <th>OverallQual_3</th>\n",
       "      <th>OverallQual_4</th>\n",
       "    </tr>\n",
       "  </thead>\n",
       "  <tbody>\n",
       "    <tr>\n",
       "      <th>0</th>\n",
       "      <td>-0.207142</td>\n",
       "      <td>-0.517200</td>\n",
       "      <td>-0.459303</td>\n",
       "      <td>-0.793434</td>\n",
       "      <td>1.161852</td>\n",
       "      <td>0.912210</td>\n",
       "      <td>0.351000</td>\n",
       "      <td>-0.951226</td>\n",
       "      <td>0.594286</td>\n",
       "      <td>0.228669</td>\n",
       "      <td>...</td>\n",
       "      <td>-0.619704</td>\n",
       "      <td>0.237551</td>\n",
       "      <td>0.370333</td>\n",
       "      <td>0.137147</td>\n",
       "      <td>0.050790</td>\n",
       "      <td>0.018809</td>\n",
       "      <td>0.651479</td>\n",
       "      <td>0.424425</td>\n",
       "      <td>0.276504</td>\n",
       "      <td>0.180137</td>\n",
       "    </tr>\n",
       "    <tr>\n",
       "      <th>1</th>\n",
       "      <td>-0.091886</td>\n",
       "      <td>2.179628</td>\n",
       "      <td>0.466465</td>\n",
       "      <td>0.257140</td>\n",
       "      <td>-0.795163</td>\n",
       "      <td>-0.318683</td>\n",
       "      <td>-0.060731</td>\n",
       "      <td>0.600495</td>\n",
       "      <td>0.022893</td>\n",
       "      <td>0.004363</td>\n",
       "      <td>...</td>\n",
       "      <td>-0.043137</td>\n",
       "      <td>1.016720</td>\n",
       "      <td>-0.482512</td>\n",
       "      <td>0.232818</td>\n",
       "      <td>-0.112337</td>\n",
       "      <td>0.054204</td>\n",
       "      <td>-0.071836</td>\n",
       "      <td>0.005160</td>\n",
       "      <td>-0.000371</td>\n",
       "      <td>0.000027</td>\n",
       "    </tr>\n",
       "    <tr>\n",
       "      <th>2</th>\n",
       "      <td>0.073480</td>\n",
       "      <td>-0.517200</td>\n",
       "      <td>-0.313369</td>\n",
       "      <td>-0.627826</td>\n",
       "      <td>1.189351</td>\n",
       "      <td>-0.318683</td>\n",
       "      <td>0.631726</td>\n",
       "      <td>0.600495</td>\n",
       "      <td>-0.207616</td>\n",
       "      <td>0.411557</td>\n",
       "      <td>...</td>\n",
       "      <td>0.391210</td>\n",
       "      <td>0.162074</td>\n",
       "      <td>0.515013</td>\n",
       "      <td>0.265238</td>\n",
       "      <td>0.136601</td>\n",
       "      <td>0.070351</td>\n",
       "      <td>0.651479</td>\n",
       "      <td>0.424425</td>\n",
       "      <td>0.276504</td>\n",
       "      <td>0.180137</td>\n",
       "    </tr>\n",
       "    <tr>\n",
       "      <th>3</th>\n",
       "      <td>-0.096897</td>\n",
       "      <td>-0.517200</td>\n",
       "      <td>-0.687324</td>\n",
       "      <td>-0.521734</td>\n",
       "      <td>0.937276</td>\n",
       "      <td>0.296763</td>\n",
       "      <td>0.790804</td>\n",
       "      <td>0.600495</td>\n",
       "      <td>0.193335</td>\n",
       "      <td>0.515193</td>\n",
       "      <td>...</td>\n",
       "      <td>0.391210</td>\n",
       "      <td>0.355484</td>\n",
       "      <td>0.383659</td>\n",
       "      <td>0.147194</td>\n",
       "      <td>0.056472</td>\n",
       "      <td>0.021666</td>\n",
       "      <td>0.651479</td>\n",
       "      <td>0.424425</td>\n",
       "      <td>0.276504</td>\n",
       "      <td>0.180137</td>\n",
       "    </tr>\n",
       "    <tr>\n",
       "      <th>4</th>\n",
       "      <td>0.375148</td>\n",
       "      <td>-0.517200</td>\n",
       "      <td>0.199680</td>\n",
       "      <td>-0.045611</td>\n",
       "      <td>1.617877</td>\n",
       "      <td>1.527656</td>\n",
       "      <td>1.698485</td>\n",
       "      <td>0.600495</td>\n",
       "      <td>2.100214</td>\n",
       "      <td>2.335068</td>\n",
       "      <td>...</td>\n",
       "      <td>0.825557</td>\n",
       "      <td>-0.103274</td>\n",
       "      <td>1.299326</td>\n",
       "      <td>1.688247</td>\n",
       "      <td>2.193583</td>\n",
       "      <td>2.850179</td>\n",
       "      <td>1.374795</td>\n",
       "      <td>1.890060</td>\n",
       "      <td>2.598445</td>\n",
       "      <td>3.572328</td>\n",
       "    </tr>\n",
       "  </tbody>\n",
       "</table>\n",
       "<p>5 rows × 23 columns</p>\n",
       "</div>"
      ],
      "text/plain": [
       "    LotArea  OverallCond  TotalBsmtSF  1stFlrSF  2ndFlrSF  TotRmsAbvGrd  \\\n",
       "0 -0.207142    -0.517200    -0.459303 -0.793434  1.161852      0.912210   \n",
       "1 -0.091886     2.179628     0.466465  0.257140 -0.795163     -0.318683   \n",
       "2  0.073480    -0.517200    -0.313369 -0.627826  1.189351     -0.318683   \n",
       "3 -0.096897    -0.517200    -0.687324 -0.521734  0.937276      0.296763   \n",
       "4  0.375148    -0.517200     0.199680 -0.045611  1.617877      1.527656   \n",
       "\n",
       "   GarageArea  Fireplaces  OverallQual_TotRmsAbvGrd  OverallQual_GarageArea  \\\n",
       "0    0.351000   -0.951226                  0.594286                0.228669   \n",
       "1   -0.060731    0.600495                  0.022893                0.004363   \n",
       "2    0.631726    0.600495                 -0.207616                0.411557   \n",
       "3    0.790804    0.600495                  0.193335                0.515193   \n",
       "4    1.698485    0.600495                  2.100214                2.335068   \n",
       "\n",
       "   ...  OverallQual_Fireplaces  OverallCond_TotalBsmtSF  GrLivArea  \\\n",
       "0  ...               -0.619704                 0.237551   0.370333   \n",
       "1  ...               -0.043137                 1.016720  -0.482512   \n",
       "2  ...                0.391210                 0.162074   0.515013   \n",
       "3  ...                0.391210                 0.355484   0.383659   \n",
       "4  ...                0.825557                -0.103274   1.299326   \n",
       "\n",
       "   GrLivArea_2  GrLivArea_3  GrLivArea_4  OverallQual  OverallQual_2  \\\n",
       "0     0.137147     0.050790     0.018809     0.651479       0.424425   \n",
       "1     0.232818    -0.112337     0.054204    -0.071836       0.005160   \n",
       "2     0.265238     0.136601     0.070351     0.651479       0.424425   \n",
       "3     0.147194     0.056472     0.021666     0.651479       0.424425   \n",
       "4     1.688247     2.193583     2.850179     1.374795       1.890060   \n",
       "\n",
       "   OverallQual_3  OverallQual_4  \n",
       "0       0.276504       0.180137  \n",
       "1      -0.000371       0.000027  \n",
       "2       0.276504       0.180137  \n",
       "3       0.276504       0.180137  \n",
       "4       2.598445       3.572328  \n",
       "\n",
       "[5 rows x 23 columns]"
      ]
     },
     "execution_count": 48,
     "metadata": {},
     "output_type": "execute_result"
    }
   ],
   "source": [
    "d_inter.head()"
   ]
  },
  {
   "cell_type": "code",
   "execution_count": 26,
   "metadata": {},
   "outputs": [
    {
     "data": {
      "image/png": "[encoded data removed]",
      "text/plain": [
       "<Figure size 432x288 with 1 Axes>"
      ]
     },
     "metadata": {
      "needs_background": "light"
     },
     "output_type": "display_data"
    }
   ],
   "source": [
    "# Your code here \n",
    "# This is to avoid division by zero while doing np.log10\n",
    "EPSILON = 1e-4\n",
    "#BIC\n",
    "model_bic = LassoLarsIC(criterion='bic')\n",
    "model_bic.fit(d_inter, target)\n",
    "alpha_bic_ = model_bic.alpha_\n",
    "#AIC\n",
    "model_aic = LassoLarsIC(criterion='aic')\n",
    "model_aic.fit(d_inter, target)\n",
    "alpha_aic_ = model_aic.alpha_\n",
    "\n",
    "def plot_ic_criterion(model, name, color):\n",
    "    criterion_ = model.criterion_\n",
    "    plt.plot(-np.log10(model.alphas_ + EPSILON), criterion_, '--', color=color,\n",
    "                 linewidth=3, label='%s criterion' % name)\n",
    "    plt.axvline(-np.log10(model.alpha_ + EPSILON), color=color, linewidth=3,\n",
    "                label='alpha: %s estimate' % name)\n",
    "    plt.xlabel(r'$\\alpha$')\n",
    "    plt.ylabel('criterion')\n",
    "\n",
    "plt.figure()\n",
    "plot_ic_criterion(model_aic, 'AIC', 'b')\n",
    "plot_ic_criterion(model_bic, 'BIC', 'r')\n",
    "plt.legend()\n",
    "plt.title('Information-criterion for model selection')\n",
    "plt.show()"
   ]
  },
  {
   "cell_type": "markdown",
   "metadata": {},
   "source": [
    "## Analyze the final result\n",
    "\n",
    "Finally, use the best value for the regularization parameter according to AIC and BIC, and compare $R^2$ and RMSE using train-test split. Compare with the baseline model.\n",
    "\n",
    "Remember, you can find the Root Mean Squared Error (RMSE) by setting `squared=False` inside the function (see [the documentation](https://scikit-learn.org/stable/modules/generated/sklearn.metrics.mean_squared_error.html)), and the RMSE returns values that are in the same units as our target - so we can see how far off our predicted sale prices are in dollars."
   ]
  },
  {
   "cell_type": "code",
   "execution_count": 28,
   "metadata": {},
   "outputs": [],
   "source": [
    "from sklearn.metrics import mean_squared_error, mean_squared_log_error\n",
    "from sklearn.model_selection import train_test_split"
   ]
  },
  {
   "cell_type": "code",
   "execution_count": 43,
   "metadata": {},
   "outputs": [
    {
     "name": "stdout",
     "output_type": "stream",
     "text": [
      "Training r2:  0.7478270652928448\n",
      "Training RMSE:  39424.15590381302\n",
      "---------\n",
      "Test r2:  0.8120708166668684\n",
      "Test RMSE:  35519.17035590487\n"
     ]
    }
   ],
   "source": [
    "# Split X_scaled and y into training and test sets\n",
    "# Set random_state to 1\n",
    "X_train, X_test, y_train, y_test = train_test_split(features_scaled, target, random_state=1)\n",
    "\n",
    "# Code for baseline model\n",
    "linreg_all = LinearRegression()\n",
    "linreg_all.fit(X_train, y_train)\n",
    "\n",
    "# Print R-Squared and RMSE\n",
    "run_model(linreg_all, X_train, y_train, X_test, y_test)"
   ]
  },
  {
   "cell_type": "code",
   "execution_count": 34,
   "metadata": {},
   "outputs": [
    {
     "data": {
      "text/plain": [
       "((365, 1), (365, 10), (1095, 10), (1095, 1))"
      ]
     },
     "execution_count": 34,
     "metadata": {},
     "output_type": "execute_result"
    }
   ],
   "source": [
    "y_test.shape, X_test.shape, X_train.shape, y_train.shape"
   ]
  },
  {
   "cell_type": "code",
   "execution_count": 48,
   "metadata": {},
   "outputs": [
    {
     "name": "stdout",
     "output_type": "stream",
     "text": [
      "Training r2:  0.8480484235882986\n",
      "Training RMSE:  30603.124722993536\n",
      "---------\n",
      "Test r2:  0.8668755307522185\n",
      "Test RMSE:  29894.730631694092\n"
     ]
    }
   ],
   "source": [
    "# Split df_inter and y into training and test sets\n",
    "# Set random_state to 1\n",
    "X_train, X_test, y_train, y_test = train_test_split(d_inter, target, random_state=1)\n",
    "\n",
    "# Code for lasso with alpha from AIC\n",
    "lasso = Lasso(alpha=alpha_aic_)\n",
    "lasso.fit(X_train, y_train)\n",
    "# Print R-Squared and RMSE\n",
    "run_model(lasso, X_train, y_train, X_test, y_test)"
   ]
  },
  {
   "cell_type": "code",
   "execution_count": 47,
   "metadata": {},
   "outputs": [
    {
     "data": {
      "text/plain": [
       "((365, 1), (365, 23), (1095, 23), (1095, 1))"
      ]
     },
     "execution_count": 47,
     "metadata": {},
     "output_type": "execute_result"
    }
   ],
   "source": [
    "y_test.shape, X_test.shape, X_train.shape, y_train.shape"
   ]
  },
  {
   "cell_type": "code",
   "execution_count": 52,
   "metadata": {},
   "outputs": [
    {
     "name": "stdout",
     "output_type": "stream",
     "text": [
      "Training r2:  0.8480484235882986\n",
      "Training RMSE:  30603.124722993536\n",
      "---------\n",
      "Test r2:  0.8668755307522185\n",
      "Test RMSE:  29894.730631694092\n"
     ]
    }
   ],
   "source": [
    "# Code for lasso with alpha from BIC\n",
    "lasso = Lasso(alpha=alpha_bic_)\n",
    "lasso.fit(X_train, y_train)\n",
    "# Print R-Squared and RMSE\n",
    "run_model(lasso, X_train, y_train, X_test, y_test)"
   ]
  },
  {
   "cell_type": "code",
   "execution_count": null,
   "metadata": {},
   "outputs": [],
   "source": []
  },
  {
   "cell_type": "markdown",
   "metadata": {},
   "source": [
    "## Level up (Optional)"
   ]
  },
  {
   "cell_type": "markdown",
   "metadata": {},
   "source": [
    "### Create a Lasso path\n",
    "\n",
    "From this section, you know that when using Lasso, more parameters shrink to zero as your regularization parameter goes up. In Scikit-learn there is a function `lasso_path()` which visualizes the shrinkage of the coefficients while $alpha$ changes. Try this out yourself!\n",
    "\n",
    "https://scikit-learn.org/stable/auto_examples/linear_model/plot_lasso_coordinate_descent_path.html#sphx-glr-auto-examples-linear-model-plot-lasso-coordinate-descent-path-py"
   ]
  },
  {
   "cell_type": "markdown",
   "metadata": {},
   "source": [
    "### AIC and BIC for subset selection\n",
    "This notebook shows how you can use AIC and BIC purely for feature selection. Try this code out on our Ames housing data!"
   ]
  },
  {
   "cell_type": "markdown",
   "metadata": {},
   "source": [
    "https://xavierbourretsicotte.github.io/subset_selection.html"
   ]
  },
  {
   "cell_type": "markdown",
   "metadata": {},
   "source": [
    "## Summary"
   ]
  },
  {
   "cell_type": "markdown",
   "metadata": {},
   "source": [
    "Congratulations! You now know how to create better linear models and how to use AIC and BIC for both feature selection and to optimize your regularization parameter when performing Ridge and Lasso. "
   ]
  }
 ],
 "metadata": {
  "kernelspec": {
   "display_name": "Python 3",
   "language": "python",
   "name": "python3"
  },
  "language_info": {
   "codemirror_mode": {
    "name": "ipython",
    "version": 3
   },
   "file_extension": ".py",
   "mimetype": "text/x-python",
   "name": "python",
   "nbconvert_exporter": "python",
   "pygments_lexer": "ipython3",
   "version": "3.6.9"
  }
 },
 "nbformat": 4,
 "nbformat_minor": 2
}
